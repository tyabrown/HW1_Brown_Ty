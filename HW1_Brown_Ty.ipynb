{
 "cells": [
  {
   "cell_type": "code",
   "execution_count": 43,
   "id": "80ec855c",
   "metadata": {},
   "outputs": [
    {
     "name": "stdout",
     "output_type": "stream",
     "text": [
      "[30, 35, 40, 45, 50, 55, 60]\n",
      "[60, 55, 50, 45, 40, 35, 30]\n",
      "[65, 60, 55, 50, 45, 40, 35, 30]\n"
     ]
    }
   ],
   "source": [
    "#Question 1 - parts a-c # please note I uploaded this on time, but incorrectly. This version is provided for your convenience, and I have left the old version for the sake of the timestamp.\n",
    "QOneList = list (range(30,65,5))\n",
    "print(QOneList)\n",
    "\n",
    "QOneList.sort(reverse=1)\n",
    "print(QOneList)\n",
    "\n",
    "QOneList.insert(0,65)\n",
    "print(QOneList)"
   ]
  },
  {
   "cell_type": "code",
   "execution_count": 7,
   "id": "83d0158e",
   "metadata": {},
   "outputs": [
    {
     "name": "stdout",
     "output_type": "stream",
     "text": [
      "[0, 1, 2, 3, 4, 5, 6, 7, 8, 9, 10, 11, 12, 13, 14, 15, 16, 17, 18, 19, 20]\n",
      "[1, 2, 3, 4, 5, 6, 7, 8, 9, 10, 11, 12, 13, 14, 15, 16, 17, 18, 19, 20]\n",
      "20\n",
      "20\n",
      "1\n",
      "210\n"
     ]
    },
    {
     "data": {
      "text/plain": [
       "210"
      ]
     },
     "execution_count": 7,
     "metadata": {},
     "output_type": "execute_result"
    }
   ],
   "source": [
    "#Question 2 - parts a-d\n",
    "QTwoList = []\n",
    "for num in range(21):\n",
    "    QTwoList.append(num)\n",
    "print(QTwoList)\n",
    "\n",
    "QTwoList.remove(0)\n",
    "print(QTwoList)\n",
    "\n",
    "print(len(QTwoList))\n",
    "print(max(QTwoList))\n",
    "print(min(QTwoList))\n",
    "\n",
    "total = 0\n",
    "for num in QTwoList: #this manages to complete the question with a for loop\n",
    "    total += num\n",
    "print(total)\n",
    "\n",
    "sum(QTwoList) #but this also works, in case we are supposed to use the sum command\n"
   ]
  },
  {
   "cell_type": "code",
   "execution_count": 15,
   "id": "8ae66c1d",
   "metadata": {},
   "outputs": [
    {
     "name": "stdout",
     "output_type": "stream",
     "text": [
      "{'sunny': 'play', 'rainy': 'watch TV', 'cloudy': 'walk'}\n",
      "When sunny let us play\n",
      "When rainy let us watch TV\n",
      "When cloudy let us walk\n",
      "{'sunny': 'play', 'rainy': 'watch TV', 'cloudy': 'walk', 'snowy': 'ski'}\n"
     ]
    }
   ],
   "source": [
    "#Question 3 - parts a-b\n",
    "QThreeDict = {\"sunny\":\"play\",\"rainy\":\"watch TV\",\"cloudy\":\"walk\"}\n",
    "print(QThreeDict)\n",
    "for a,b in QThreeDict.items():\n",
    "    print(\"When\", a, \"let us\", b)\n",
    "\n",
    "QThreeDict.update({ \"snowy\" : \"ski\" })\n",
    "print(QThreeDict)"
   ]
  },
  {
   "cell_type": "code",
   "execution_count": null,
   "id": "2aaf09fa",
   "metadata": {},
   "outputs": [],
   "source": []
  }
 ],
 "metadata": {
  "kernelspec": {
   "display_name": "Python 3 (ipykernel)",
   "language": "python",
   "name": "python3"
  },
  "language_info": {
   "codemirror_mode": {
    "name": "ipython",
    "version": 3
   },
   "file_extension": ".py",
   "mimetype": "text/x-python",
   "name": "python",
   "nbconvert_exporter": "python",
   "pygments_lexer": "ipython3",
   "version": "3.9.7"
  }
 },
 "nbformat": 4,
 "nbformat_minor": 5
}
